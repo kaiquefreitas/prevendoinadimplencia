{
 "cells": [
  {
   "cell_type": "markdown",
   "id": "cbc5c316",
   "metadata": {},
   "source": [
    "### Importando bibliotecas do projeto"
   ]
  },
  {
   "cell_type": "code",
   "execution_count": 1,
   "id": "ff8eca3f",
   "metadata": {},
   "outputs": [],
   "source": [
    "import pandas as pd\n",
    "from matplotlib import pyplot as plt\n",
    "import seaborn as sns\n",
    "from sklearn.model_selection import train_test_split\n",
    "from sklearn.ensemble import RandomForestClassifier\n",
    "from sklearn.metrics import accuracy_score\n",
    "from sklearn.metrics import confusion_matrix\n",
    "from sklearn.metrics import classification_report\n",
    "from sklearn.metrics import roc_auc_score\n",
    "from imblearn.over_sampling import SMOTE"
   ]
  },
  {
   "cell_type": "markdown",
   "id": "95f7e640",
   "metadata": {},
   "source": [
    "### Lendo arquivo e instanciando objeto \"Dataset\""
   ]
  },
  {
   "cell_type": "code",
   "execution_count": 57,
   "id": "4c8b9dcd",
   "metadata": {},
   "outputs": [],
   "source": [
    "dataset = pd.read_csv(\"data/dataset.csv\")"
   ]
  },
  {
   "cell_type": "markdown",
   "id": "d520da3f",
   "metadata": {},
   "source": [
    "### Analise exploratória, limpeza e transformação"
   ]
  },
  {
   "cell_type": "code",
   "execution_count": 3,
   "id": "b3d478ef",
   "metadata": {},
   "outputs": [
    {
     "data": {
      "text/html": [
       "<div>\n",
       "<style scoped>\n",
       "    .dataframe tbody tr th:only-of-type {\n",
       "        vertical-align: middle;\n",
       "    }\n",
       "\n",
       "    .dataframe tbody tr th {\n",
       "        vertical-align: top;\n",
       "    }\n",
       "\n",
       "    .dataframe thead th {\n",
       "        text-align: right;\n",
       "    }\n",
       "</style>\n",
       "<table border=\"1\" class=\"dataframe\">\n",
       "  <thead>\n",
       "    <tr style=\"text-align: right;\">\n",
       "      <th></th>\n",
       "      <th>ID</th>\n",
       "      <th>LIMIT_BAL</th>\n",
       "      <th>SEX</th>\n",
       "      <th>EDUCATION</th>\n",
       "      <th>MARRIAGE</th>\n",
       "      <th>AGE</th>\n",
       "      <th>PAY_0</th>\n",
       "      <th>PAY_2</th>\n",
       "      <th>PAY_3</th>\n",
       "      <th>PAY_4</th>\n",
       "      <th>...</th>\n",
       "      <th>BILL_AMT4</th>\n",
       "      <th>BILL_AMT5</th>\n",
       "      <th>BILL_AMT6</th>\n",
       "      <th>PAY_AMT1</th>\n",
       "      <th>PAY_AMT2</th>\n",
       "      <th>PAY_AMT3</th>\n",
       "      <th>PAY_AMT4</th>\n",
       "      <th>PAY_AMT5</th>\n",
       "      <th>PAY_AMT6</th>\n",
       "      <th>default payment next month</th>\n",
       "    </tr>\n",
       "  </thead>\n",
       "  <tbody>\n",
       "    <tr>\n",
       "      <th>0</th>\n",
       "      <td>1</td>\n",
       "      <td>20000</td>\n",
       "      <td>2</td>\n",
       "      <td>2</td>\n",
       "      <td>1</td>\n",
       "      <td>24</td>\n",
       "      <td>2</td>\n",
       "      <td>2</td>\n",
       "      <td>-1</td>\n",
       "      <td>-1</td>\n",
       "      <td>...</td>\n",
       "      <td>0</td>\n",
       "      <td>0</td>\n",
       "      <td>0</td>\n",
       "      <td>0</td>\n",
       "      <td>689</td>\n",
       "      <td>0</td>\n",
       "      <td>0</td>\n",
       "      <td>0</td>\n",
       "      <td>0</td>\n",
       "      <td>1</td>\n",
       "    </tr>\n",
       "    <tr>\n",
       "      <th>1</th>\n",
       "      <td>2</td>\n",
       "      <td>120000</td>\n",
       "      <td>2</td>\n",
       "      <td>2</td>\n",
       "      <td>2</td>\n",
       "      <td>26</td>\n",
       "      <td>-1</td>\n",
       "      <td>2</td>\n",
       "      <td>0</td>\n",
       "      <td>0</td>\n",
       "      <td>...</td>\n",
       "      <td>3272</td>\n",
       "      <td>3455</td>\n",
       "      <td>3261</td>\n",
       "      <td>0</td>\n",
       "      <td>1000</td>\n",
       "      <td>1000</td>\n",
       "      <td>1000</td>\n",
       "      <td>0</td>\n",
       "      <td>2000</td>\n",
       "      <td>1</td>\n",
       "    </tr>\n",
       "    <tr>\n",
       "      <th>2</th>\n",
       "      <td>3</td>\n",
       "      <td>90000</td>\n",
       "      <td>2</td>\n",
       "      <td>2</td>\n",
       "      <td>2</td>\n",
       "      <td>34</td>\n",
       "      <td>0</td>\n",
       "      <td>0</td>\n",
       "      <td>0</td>\n",
       "      <td>0</td>\n",
       "      <td>...</td>\n",
       "      <td>14331</td>\n",
       "      <td>14948</td>\n",
       "      <td>15549</td>\n",
       "      <td>1518</td>\n",
       "      <td>1500</td>\n",
       "      <td>1000</td>\n",
       "      <td>1000</td>\n",
       "      <td>1000</td>\n",
       "      <td>5000</td>\n",
       "      <td>0</td>\n",
       "    </tr>\n",
       "    <tr>\n",
       "      <th>3</th>\n",
       "      <td>4</td>\n",
       "      <td>50000</td>\n",
       "      <td>2</td>\n",
       "      <td>2</td>\n",
       "      <td>1</td>\n",
       "      <td>37</td>\n",
       "      <td>0</td>\n",
       "      <td>0</td>\n",
       "      <td>0</td>\n",
       "      <td>0</td>\n",
       "      <td>...</td>\n",
       "      <td>28314</td>\n",
       "      <td>28959</td>\n",
       "      <td>29547</td>\n",
       "      <td>2000</td>\n",
       "      <td>2019</td>\n",
       "      <td>1200</td>\n",
       "      <td>1100</td>\n",
       "      <td>1069</td>\n",
       "      <td>1000</td>\n",
       "      <td>0</td>\n",
       "    </tr>\n",
       "    <tr>\n",
       "      <th>4</th>\n",
       "      <td>5</td>\n",
       "      <td>50000</td>\n",
       "      <td>1</td>\n",
       "      <td>2</td>\n",
       "      <td>1</td>\n",
       "      <td>57</td>\n",
       "      <td>-1</td>\n",
       "      <td>0</td>\n",
       "      <td>-1</td>\n",
       "      <td>0</td>\n",
       "      <td>...</td>\n",
       "      <td>20940</td>\n",
       "      <td>19146</td>\n",
       "      <td>19131</td>\n",
       "      <td>2000</td>\n",
       "      <td>36681</td>\n",
       "      <td>10000</td>\n",
       "      <td>9000</td>\n",
       "      <td>689</td>\n",
       "      <td>679</td>\n",
       "      <td>0</td>\n",
       "    </tr>\n",
       "  </tbody>\n",
       "</table>\n",
       "<p>5 rows × 25 columns</p>\n",
       "</div>"
      ],
      "text/plain": [
       "   ID  LIMIT_BAL  SEX  EDUCATION  MARRIAGE  AGE  PAY_0  PAY_2  PAY_3  PAY_4  \\\n",
       "0   1      20000    2          2         1   24      2      2     -1     -1   \n",
       "1   2     120000    2          2         2   26     -1      2      0      0   \n",
       "2   3      90000    2          2         2   34      0      0      0      0   \n",
       "3   4      50000    2          2         1   37      0      0      0      0   \n",
       "4   5      50000    1          2         1   57     -1      0     -1      0   \n",
       "\n",
       "   ...  BILL_AMT4  BILL_AMT5  BILL_AMT6  PAY_AMT1  PAY_AMT2  PAY_AMT3  \\\n",
       "0  ...          0          0          0         0       689         0   \n",
       "1  ...       3272       3455       3261         0      1000      1000   \n",
       "2  ...      14331      14948      15549      1518      1500      1000   \n",
       "3  ...      28314      28959      29547      2000      2019      1200   \n",
       "4  ...      20940      19146      19131      2000     36681     10000   \n",
       "\n",
       "   PAY_AMT4  PAY_AMT5  PAY_AMT6  default payment next month  \n",
       "0         0         0         0                           1  \n",
       "1      1000         0      2000                           1  \n",
       "2      1000      1000      5000                           0  \n",
       "3      1100      1069      1000                           0  \n",
       "4      9000       689       679                           0  \n",
       "\n",
       "[5 rows x 25 columns]"
      ]
     },
     "execution_count": 3,
     "metadata": {},
     "output_type": "execute_result"
    }
   ],
   "source": [
    "#Plotando as 5 primeiras linhas do Dataset\n",
    "dataset.head()"
   ]
  },
  {
   "cell_type": "code",
   "execution_count": 4,
   "id": "b750ca82",
   "metadata": {},
   "outputs": [
    {
     "data": {
      "text/html": [
       "<div>\n",
       "<style scoped>\n",
       "    .dataframe tbody tr th:only-of-type {\n",
       "        vertical-align: middle;\n",
       "    }\n",
       "\n",
       "    .dataframe tbody tr th {\n",
       "        vertical-align: top;\n",
       "    }\n",
       "\n",
       "    .dataframe thead th {\n",
       "        text-align: right;\n",
       "    }\n",
       "</style>\n",
       "<table border=\"1\" class=\"dataframe\">\n",
       "  <thead>\n",
       "    <tr style=\"text-align: right;\">\n",
       "      <th></th>\n",
       "      <th>ID</th>\n",
       "      <th>LIMIT_BAL</th>\n",
       "      <th>SEX</th>\n",
       "      <th>EDUCATION</th>\n",
       "      <th>MARRIAGE</th>\n",
       "      <th>AGE</th>\n",
       "      <th>PAY_0</th>\n",
       "      <th>PAY_2</th>\n",
       "      <th>PAY_3</th>\n",
       "      <th>PAY_4</th>\n",
       "      <th>...</th>\n",
       "      <th>BILL_AMT4</th>\n",
       "      <th>BILL_AMT5</th>\n",
       "      <th>BILL_AMT6</th>\n",
       "      <th>PAY_AMT1</th>\n",
       "      <th>PAY_AMT2</th>\n",
       "      <th>PAY_AMT3</th>\n",
       "      <th>PAY_AMT4</th>\n",
       "      <th>PAY_AMT5</th>\n",
       "      <th>PAY_AMT6</th>\n",
       "      <th>default payment next month</th>\n",
       "    </tr>\n",
       "  </thead>\n",
       "  <tbody>\n",
       "    <tr>\n",
       "      <th>count</th>\n",
       "      <td>30000.000000</td>\n",
       "      <td>30000.000000</td>\n",
       "      <td>30000.000000</td>\n",
       "      <td>30000.000000</td>\n",
       "      <td>30000.000000</td>\n",
       "      <td>30000.000000</td>\n",
       "      <td>30000.000000</td>\n",
       "      <td>30000.000000</td>\n",
       "      <td>30000.000000</td>\n",
       "      <td>30000.000000</td>\n",
       "      <td>...</td>\n",
       "      <td>30000.000000</td>\n",
       "      <td>30000.000000</td>\n",
       "      <td>30000.000000</td>\n",
       "      <td>30000.000000</td>\n",
       "      <td>3.000000e+04</td>\n",
       "      <td>30000.00000</td>\n",
       "      <td>30000.000000</td>\n",
       "      <td>30000.000000</td>\n",
       "      <td>30000.000000</td>\n",
       "      <td>30000.000000</td>\n",
       "    </tr>\n",
       "    <tr>\n",
       "      <th>mean</th>\n",
       "      <td>15000.500000</td>\n",
       "      <td>167484.322667</td>\n",
       "      <td>1.603733</td>\n",
       "      <td>1.853133</td>\n",
       "      <td>1.551867</td>\n",
       "      <td>35.485500</td>\n",
       "      <td>-0.016700</td>\n",
       "      <td>-0.133767</td>\n",
       "      <td>-0.166200</td>\n",
       "      <td>-0.220667</td>\n",
       "      <td>...</td>\n",
       "      <td>43262.948967</td>\n",
       "      <td>40311.400967</td>\n",
       "      <td>38871.760400</td>\n",
       "      <td>5663.580500</td>\n",
       "      <td>5.921163e+03</td>\n",
       "      <td>5225.68150</td>\n",
       "      <td>4826.076867</td>\n",
       "      <td>4799.387633</td>\n",
       "      <td>5215.502567</td>\n",
       "      <td>0.221200</td>\n",
       "    </tr>\n",
       "    <tr>\n",
       "      <th>std</th>\n",
       "      <td>8660.398374</td>\n",
       "      <td>129747.661567</td>\n",
       "      <td>0.489129</td>\n",
       "      <td>0.790349</td>\n",
       "      <td>0.521970</td>\n",
       "      <td>9.217904</td>\n",
       "      <td>1.123802</td>\n",
       "      <td>1.197186</td>\n",
       "      <td>1.196868</td>\n",
       "      <td>1.169139</td>\n",
       "      <td>...</td>\n",
       "      <td>64332.856134</td>\n",
       "      <td>60797.155770</td>\n",
       "      <td>59554.107537</td>\n",
       "      <td>16563.280354</td>\n",
       "      <td>2.304087e+04</td>\n",
       "      <td>17606.96147</td>\n",
       "      <td>15666.159744</td>\n",
       "      <td>15278.305679</td>\n",
       "      <td>17777.465775</td>\n",
       "      <td>0.415062</td>\n",
       "    </tr>\n",
       "    <tr>\n",
       "      <th>min</th>\n",
       "      <td>1.000000</td>\n",
       "      <td>10000.000000</td>\n",
       "      <td>1.000000</td>\n",
       "      <td>0.000000</td>\n",
       "      <td>0.000000</td>\n",
       "      <td>21.000000</td>\n",
       "      <td>-2.000000</td>\n",
       "      <td>-2.000000</td>\n",
       "      <td>-2.000000</td>\n",
       "      <td>-2.000000</td>\n",
       "      <td>...</td>\n",
       "      <td>-170000.000000</td>\n",
       "      <td>-81334.000000</td>\n",
       "      <td>-339603.000000</td>\n",
       "      <td>0.000000</td>\n",
       "      <td>0.000000e+00</td>\n",
       "      <td>0.00000</td>\n",
       "      <td>0.000000</td>\n",
       "      <td>0.000000</td>\n",
       "      <td>0.000000</td>\n",
       "      <td>0.000000</td>\n",
       "    </tr>\n",
       "    <tr>\n",
       "      <th>25%</th>\n",
       "      <td>7500.750000</td>\n",
       "      <td>50000.000000</td>\n",
       "      <td>1.000000</td>\n",
       "      <td>1.000000</td>\n",
       "      <td>1.000000</td>\n",
       "      <td>28.000000</td>\n",
       "      <td>-1.000000</td>\n",
       "      <td>-1.000000</td>\n",
       "      <td>-1.000000</td>\n",
       "      <td>-1.000000</td>\n",
       "      <td>...</td>\n",
       "      <td>2326.750000</td>\n",
       "      <td>1763.000000</td>\n",
       "      <td>1256.000000</td>\n",
       "      <td>1000.000000</td>\n",
       "      <td>8.330000e+02</td>\n",
       "      <td>390.00000</td>\n",
       "      <td>296.000000</td>\n",
       "      <td>252.500000</td>\n",
       "      <td>117.750000</td>\n",
       "      <td>0.000000</td>\n",
       "    </tr>\n",
       "    <tr>\n",
       "      <th>50%</th>\n",
       "      <td>15000.500000</td>\n",
       "      <td>140000.000000</td>\n",
       "      <td>2.000000</td>\n",
       "      <td>2.000000</td>\n",
       "      <td>2.000000</td>\n",
       "      <td>34.000000</td>\n",
       "      <td>0.000000</td>\n",
       "      <td>0.000000</td>\n",
       "      <td>0.000000</td>\n",
       "      <td>0.000000</td>\n",
       "      <td>...</td>\n",
       "      <td>19052.000000</td>\n",
       "      <td>18104.500000</td>\n",
       "      <td>17071.000000</td>\n",
       "      <td>2100.000000</td>\n",
       "      <td>2.009000e+03</td>\n",
       "      <td>1800.00000</td>\n",
       "      <td>1500.000000</td>\n",
       "      <td>1500.000000</td>\n",
       "      <td>1500.000000</td>\n",
       "      <td>0.000000</td>\n",
       "    </tr>\n",
       "    <tr>\n",
       "      <th>75%</th>\n",
       "      <td>22500.250000</td>\n",
       "      <td>240000.000000</td>\n",
       "      <td>2.000000</td>\n",
       "      <td>2.000000</td>\n",
       "      <td>2.000000</td>\n",
       "      <td>41.000000</td>\n",
       "      <td>0.000000</td>\n",
       "      <td>0.000000</td>\n",
       "      <td>0.000000</td>\n",
       "      <td>0.000000</td>\n",
       "      <td>...</td>\n",
       "      <td>54506.000000</td>\n",
       "      <td>50190.500000</td>\n",
       "      <td>49198.250000</td>\n",
       "      <td>5006.000000</td>\n",
       "      <td>5.000000e+03</td>\n",
       "      <td>4505.00000</td>\n",
       "      <td>4013.250000</td>\n",
       "      <td>4031.500000</td>\n",
       "      <td>4000.000000</td>\n",
       "      <td>0.000000</td>\n",
       "    </tr>\n",
       "    <tr>\n",
       "      <th>max</th>\n",
       "      <td>30000.000000</td>\n",
       "      <td>1000000.000000</td>\n",
       "      <td>2.000000</td>\n",
       "      <td>6.000000</td>\n",
       "      <td>3.000000</td>\n",
       "      <td>79.000000</td>\n",
       "      <td>8.000000</td>\n",
       "      <td>8.000000</td>\n",
       "      <td>8.000000</td>\n",
       "      <td>8.000000</td>\n",
       "      <td>...</td>\n",
       "      <td>891586.000000</td>\n",
       "      <td>927171.000000</td>\n",
       "      <td>961664.000000</td>\n",
       "      <td>873552.000000</td>\n",
       "      <td>1.684259e+06</td>\n",
       "      <td>896040.00000</td>\n",
       "      <td>621000.000000</td>\n",
       "      <td>426529.000000</td>\n",
       "      <td>528666.000000</td>\n",
       "      <td>1.000000</td>\n",
       "    </tr>\n",
       "  </tbody>\n",
       "</table>\n",
       "<p>8 rows × 25 columns</p>\n",
       "</div>"
      ],
      "text/plain": [
       "                 ID       LIMIT_BAL           SEX     EDUCATION      MARRIAGE  \\\n",
       "count  30000.000000    30000.000000  30000.000000  30000.000000  30000.000000   \n",
       "mean   15000.500000   167484.322667      1.603733      1.853133      1.551867   \n",
       "std     8660.398374   129747.661567      0.489129      0.790349      0.521970   \n",
       "min        1.000000    10000.000000      1.000000      0.000000      0.000000   \n",
       "25%     7500.750000    50000.000000      1.000000      1.000000      1.000000   \n",
       "50%    15000.500000   140000.000000      2.000000      2.000000      2.000000   \n",
       "75%    22500.250000   240000.000000      2.000000      2.000000      2.000000   \n",
       "max    30000.000000  1000000.000000      2.000000      6.000000      3.000000   \n",
       "\n",
       "                AGE         PAY_0         PAY_2         PAY_3         PAY_4  \\\n",
       "count  30000.000000  30000.000000  30000.000000  30000.000000  30000.000000   \n",
       "mean      35.485500     -0.016700     -0.133767     -0.166200     -0.220667   \n",
       "std        9.217904      1.123802      1.197186      1.196868      1.169139   \n",
       "min       21.000000     -2.000000     -2.000000     -2.000000     -2.000000   \n",
       "25%       28.000000     -1.000000     -1.000000     -1.000000     -1.000000   \n",
       "50%       34.000000      0.000000      0.000000      0.000000      0.000000   \n",
       "75%       41.000000      0.000000      0.000000      0.000000      0.000000   \n",
       "max       79.000000      8.000000      8.000000      8.000000      8.000000   \n",
       "\n",
       "       ...      BILL_AMT4      BILL_AMT5      BILL_AMT6       PAY_AMT1  \\\n",
       "count  ...   30000.000000   30000.000000   30000.000000   30000.000000   \n",
       "mean   ...   43262.948967   40311.400967   38871.760400    5663.580500   \n",
       "std    ...   64332.856134   60797.155770   59554.107537   16563.280354   \n",
       "min    ... -170000.000000  -81334.000000 -339603.000000       0.000000   \n",
       "25%    ...    2326.750000    1763.000000    1256.000000    1000.000000   \n",
       "50%    ...   19052.000000   18104.500000   17071.000000    2100.000000   \n",
       "75%    ...   54506.000000   50190.500000   49198.250000    5006.000000   \n",
       "max    ...  891586.000000  927171.000000  961664.000000  873552.000000   \n",
       "\n",
       "           PAY_AMT2      PAY_AMT3       PAY_AMT4       PAY_AMT5  \\\n",
       "count  3.000000e+04   30000.00000   30000.000000   30000.000000   \n",
       "mean   5.921163e+03    5225.68150    4826.076867    4799.387633   \n",
       "std    2.304087e+04   17606.96147   15666.159744   15278.305679   \n",
       "min    0.000000e+00       0.00000       0.000000       0.000000   \n",
       "25%    8.330000e+02     390.00000     296.000000     252.500000   \n",
       "50%    2.009000e+03    1800.00000    1500.000000    1500.000000   \n",
       "75%    5.000000e+03    4505.00000    4013.250000    4031.500000   \n",
       "max    1.684259e+06  896040.00000  621000.000000  426529.000000   \n",
       "\n",
       "            PAY_AMT6  default payment next month  \n",
       "count   30000.000000                30000.000000  \n",
       "mean     5215.502567                    0.221200  \n",
       "std     17777.465775                    0.415062  \n",
       "min         0.000000                    0.000000  \n",
       "25%       117.750000                    0.000000  \n",
       "50%      1500.000000                    0.000000  \n",
       "75%      4000.000000                    0.000000  \n",
       "max    528666.000000                    1.000000  \n",
       "\n",
       "[8 rows x 25 columns]"
      ]
     },
     "execution_count": 4,
     "metadata": {},
     "output_type": "execute_result"
    }
   ],
   "source": [
    "#Breve descrição estatística das colunas\n",
    "dataset.describe()"
   ]
  },
  {
   "cell_type": "code",
   "execution_count": 5,
   "id": "c6b1e693",
   "metadata": {},
   "outputs": [],
   "source": [
    "#Removendo coluna \"ID\":\n",
    "dataset.drop([\"ID\"], axis = 1,inplace=True)"
   ]
  },
  {
   "cell_type": "code",
   "execution_count": 6,
   "id": "b4143bac",
   "metadata": {},
   "outputs": [],
   "source": [
    "#Renomeando algumas colunas do dataset\n",
    "dicicionario_de_renomeacao = {\"default payment next month\":\"inadimplente\",\"SEX\":\"Genero\",\"EDUCATION\":\"Escolaridade\",\n",
    "                             \"MARRIAGE\":\"Estado_Civil\",\"AGE\":\"Idade\"}\n",
    "dataset.rename(columns=dicicionario_de_renomeacao,inplace=True)"
   ]
  },
  {
   "cell_type": "code",
   "execution_count": 7,
   "id": "54399fb7",
   "metadata": {},
   "outputs": [
    {
     "data": {
      "text/plain": [
       "LIMIT_BAL       0\n",
       "Genero          0\n",
       "Escolaridade    0\n",
       "Estado_Civil    0\n",
       "Idade           0\n",
       "PAY_0           0\n",
       "PAY_2           0\n",
       "PAY_3           0\n",
       "PAY_4           0\n",
       "PAY_5           0\n",
       "PAY_6           0\n",
       "BILL_AMT1       0\n",
       "BILL_AMT2       0\n",
       "BILL_AMT3       0\n",
       "BILL_AMT4       0\n",
       "BILL_AMT5       0\n",
       "BILL_AMT6       0\n",
       "PAY_AMT1        0\n",
       "PAY_AMT2        0\n",
       "PAY_AMT3        0\n",
       "PAY_AMT4        0\n",
       "PAY_AMT5        0\n",
       "PAY_AMT6        0\n",
       "inadimplente    0\n",
       "dtype: int64"
      ]
     },
     "execution_count": 7,
     "metadata": {},
     "output_type": "execute_result"
    }
   ],
   "source": [
    "#Checando se há valores nullos \n",
    "dataset.isna().sum()"
   ]
  },
  {
   "cell_type": "code",
   "execution_count": 8,
   "id": "90a854e1",
   "metadata": {},
   "outputs": [],
   "source": [
    "#Mudando valores da Coluna \"Genero\", \"Escolaridade\" e \"Estado Civil\"\n",
    "dataset[\"Genero\"].replace({1:0,2:1},inplace=True) \n",
    "dataset[\"Escolaridade\"].replace({1:\"Pos graduado\",2:\"Graduado\",3:\"Ensino médio\",4:\"outros\",0:\"\",5:\"\",6:\"\"},inplace=True)\n",
    "dataset[\"Estado_Civil\"].replace({0:\"Desconhecido\",1:\"Casado\",2:\"Solteiro\",3:\"Outro\"},inplace=True) \n"
   ]
  },
  {
   "cell_type": "code",
   "execution_count": 9,
   "id": "a4d953a2",
   "metadata": {
    "scrolled": true
   },
   "outputs": [
    {
     "data": {
      "text/plain": [
       "<AxesSubplot:xlabel='Idade'>"
      ]
     },
     "execution_count": 9,
     "metadata": {},
     "output_type": "execute_result"
    },
    {
     "data": {
      "image/png": "[encoded data removed]",
      "text/plain": [
       "<Figure size 432x288 with 1 Axes>"
      ]
     },
     "metadata": {
      "needs_background": "light"
     },
     "output_type": "display_data"
    }
   ],
   "source": [
    "#Verificando distribuição dos dados \"Idade\".\n",
    "sns.boxplot(data=dataset, x=\"Idade\")"
   ]
  },
  {
   "cell_type": "code",
   "execution_count": 10,
   "id": "8badd249",
   "metadata": {},
   "outputs": [
    {
     "data": {
      "text/plain": [
       "<AxesSubplot:xlabel='Idade', ylabel='Count'>"
      ]
     },
     "execution_count": 10,
     "metadata": {},
     "output_type": "execute_result"
    },
    {
     "data": {
      "image/png": "[encoded data removed]",
      "text/plain": [
       "<Figure size 432x288 with 1 Axes>"
      ]
     },
     "metadata": {
      "needs_background": "light"
     },
     "output_type": "display_data"
    }
   ],
   "source": [
    "sns.histplot(data=dataset, x=\"Idade\")"
   ]
  },
  {
   "cell_type": "code",
   "execution_count": 11,
   "id": "6313086c",
   "metadata": {},
   "outputs": [],
   "source": [
    "# Agrupando a coluna \"Idade\" (Dados numéricos discretos) em dados categóricos [\"Jovem\",\"Adulto, Idoso\"]\n",
    "dataset.loc[dataset['Idade']<30,\"Faixa Etária Categórica\"]=\"Jovem\"\n",
    "dataset.loc[dataset['Idade'].between(30,50),\"Faixa Etária Categórica\"]=\"Adulto\"\n",
    "dataset.loc[dataset['Idade']>50,\"Faixa Etária Categórica\"]=\"Idoso\""
   ]
  },
  {
   "cell_type": "code",
   "execution_count": 12,
   "id": "9651db3f",
   "metadata": {
    "scrolled": false
   },
   "outputs": [
    {
     "name": "stdout",
     "output_type": "stream",
     "text": [
      "Graduado        14030\n",
      "Pos graduado    10585\n",
      "Ensino médio     4917\n",
      "outros            123\n",
      "Name: Escolaridade, dtype: int64\n"
     ]
    }
   ],
   "source": [
    "#Excluindo valores NA da Coluna \"Escolaridade\", total = 345\n",
    "dataset.drop(dataset.loc[dataset[\"Escolaridade\"]==\"\"].index, inplace = True)\n",
    "print(dataset[\"Escolaridade\"].value_counts())"
   ]
  },
  {
   "cell_type": "code",
   "execution_count": 13,
   "id": "8191d3e0",
   "metadata": {},
   "outputs": [],
   "source": [
    "dataset= dataset.drop(\"Idade\",axis=1)"
   ]
  },
  {
   "cell_type": "code",
   "execution_count": 14,
   "id": "ea66f7a9",
   "metadata": {},
   "outputs": [],
   "source": [
    "dataset=pd.get_dummies(dataset)"
   ]
  },
  {
   "cell_type": "code",
   "execution_count": 15,
   "id": "fe293b53",
   "metadata": {
    "scrolled": true
   },
   "outputs": [
    {
     "name": "stdout",
     "output_type": "stream",
     "text": [
      "<class 'pandas.core.frame.DataFrame'>\n",
      "Int64Index: 29655 entries, 0 to 29999\n",
      "Data columns (total 32 columns):\n",
      " #   Column                          Non-Null Count  Dtype\n",
      "---  ------                          --------------  -----\n",
      " 0   LIMIT_BAL                       29655 non-null  int64\n",
      " 1   Genero                          29655 non-null  int64\n",
      " 2   PAY_0                           29655 non-null  int64\n",
      " 3   PAY_2                           29655 non-null  int64\n",
      " 4   PAY_3                           29655 non-null  int64\n",
      " 5   PAY_4                           29655 non-null  int64\n",
      " 6   PAY_5                           29655 non-null  int64\n",
      " 7   PAY_6                           29655 non-null  int64\n",
      " 8   BILL_AMT1                       29655 non-null  int64\n",
      " 9   BILL_AMT2                       29655 non-null  int64\n",
      " 10  BILL_AMT3                       29655 non-null  int64\n",
      " 11  BILL_AMT4                       29655 non-null  int64\n",
      " 12  BILL_AMT5                       29655 non-null  int64\n",
      " 13  BILL_AMT6                       29655 non-null  int64\n",
      " 14  PAY_AMT1                        29655 non-null  int64\n",
      " 15  PAY_AMT2                        29655 non-null  int64\n",
      " 16  PAY_AMT3                        29655 non-null  int64\n",
      " 17  PAY_AMT4                        29655 non-null  int64\n",
      " 18  PAY_AMT5                        29655 non-null  int64\n",
      " 19  PAY_AMT6                        29655 non-null  int64\n",
      " 20  inadimplente                    29655 non-null  int64\n",
      " 21  Escolaridade_Ensino médio       29655 non-null  uint8\n",
      " 22  Escolaridade_Graduado           29655 non-null  uint8\n",
      " 23  Escolaridade_Pos graduado       29655 non-null  uint8\n",
      " 24  Escolaridade_outros             29655 non-null  uint8\n",
      " 25  Estado_Civil_Casado             29655 non-null  uint8\n",
      " 26  Estado_Civil_Desconhecido       29655 non-null  uint8\n",
      " 27  Estado_Civil_Outro              29655 non-null  uint8\n",
      " 28  Estado_Civil_Solteiro           29655 non-null  uint8\n",
      " 29  Faixa Etária Categórica_Adulto  29655 non-null  uint8\n",
      " 30  Faixa Etária Categórica_Idoso   29655 non-null  uint8\n",
      " 31  Faixa Etária Categórica_Jovem   29655 non-null  uint8\n",
      "dtypes: int64(21), uint8(11)\n",
      "memory usage: 5.3 MB\n"
     ]
    }
   ],
   "source": [
    "dataset.info()"
   ]
  },
  {
   "cell_type": "code",
   "execution_count": 16,
   "id": "eb95ffa3",
   "metadata": {},
   "outputs": [],
   "source": [
    "#                                                                                                                              #\n",
    "#                                    Analise exploratória, limpeza e transformação, CONCLUÍDA                                  #\n",
    "#                                                                                                                              #"
   ]
  },
  {
   "cell_type": "markdown",
   "id": "f8b13c1b",
   "metadata": {},
   "source": [
    "### Analisando proporção da variável target (inadimplência)"
   ]
  },
  {
   "cell_type": "code",
   "execution_count": 17,
   "id": "8006ba84",
   "metadata": {},
   "outputs": [
    {
     "name": "stdout",
     "output_type": "stream",
     "text": [
      "0    23045\n",
      "1     6610\n",
      "Name: inadimplente, dtype: int64\n"
     ]
    },
    {
     "data": {
      "text/plain": [
       "<AxesSubplot:xlabel='inadimplente', ylabel='count'>"
      ]
     },
     "execution_count": 17,
     "metadata": {},
     "output_type": "execute_result"
    },
    {
     "data": {
      "image/png": "[encoded data removed]",
      "text/plain": [
       "<Figure size 432x288 with 1 Axes>"
      ]
     },
     "metadata": {
      "needs_background": "light"
     },
     "output_type": "display_data"
    }
   ],
   "source": [
    "# Verificando proporção entre inadimplentes\n",
    "print(dataset[\"inadimplente\"].value_counts())\n",
    "sns.countplot(data=dataset, x=\"inadimplente\")"
   ]
  },
  {
   "cell_type": "markdown",
   "id": "12673bf4",
   "metadata": {},
   "source": [
    "##### Verificamos aqui um desbalanceamento entre inadimplentes, logo, devemos balancear está classe. Por quê? Porque se vamos\n",
    "##### alimentar um modelo de ML devemos ensiná-lo de maneira proporcional."
   ]
  },
  {
   "cell_type": "markdown",
   "id": "612c979c",
   "metadata": {},
   "source": [
    "### Dividindo o dataset em treino e teste."
   ]
  },
  {
   "cell_type": "code",
   "execution_count": 18,
   "id": "b77bc72d",
   "metadata": {},
   "outputs": [],
   "source": [
    "labels = dataset['inadimplente']\n",
    "features = dataset.drop('inadimplente', axis = 1)\n",
    "feature_list = list(features.columns)"
   ]
  },
  {
   "cell_type": "code",
   "execution_count": 19,
   "id": "93e90076",
   "metadata": {},
   "outputs": [],
   "source": [
    "train_features, test_features, train_labels, test_labels = train_test_split(features, labels, test_size = 0.25, stratify=labels)"
   ]
  },
  {
   "cell_type": "code",
   "execution_count": 20,
   "id": "34433aea",
   "metadata": {},
   "outputs": [
    {
     "name": "stdout",
     "output_type": "stream",
     "text": [
      "Forma das características de treinamento: (22241, 31)\n",
      "Forma das etiquetas de treinamento: (22241,)\n",
      "Forma das características de teste: (7414, 31)\n",
      "Forma das etiquetas de teste: (7414,)\n"
     ]
    }
   ],
   "source": [
    "print('Forma das características de treinamento:', train_features.shape) \n",
    "print('Forma das etiquetas de treinamento:', train_labels.shape) \n",
    "print('Forma das características de teste:', test_features.shape) \n",
    "print('Forma das etiquetas de teste:', test_labels.shape)"
   ]
  },
  {
   "cell_type": "markdown",
   "id": "cf5c681e",
   "metadata": {},
   "source": [
    "### Criando primeiro modelo ML - Random Forest"
   ]
  },
  {
   "cell_type": "code",
   "execution_count": 21,
   "id": "f916a48a",
   "metadata": {},
   "outputs": [],
   "source": [
    "rnd_clf_v1=RandomForestClassifier(n_estimators=200)"
   ]
  },
  {
   "cell_type": "code",
   "execution_count": 22,
   "id": "4a824552",
   "metadata": {},
   "outputs": [
    {
     "data": {
      "text/plain": [
       "RandomForestClassifier(n_estimators=200)"
      ]
     },
     "execution_count": 22,
     "metadata": {},
     "output_type": "execute_result"
    }
   ],
   "source": [
    "rnd_clf_v1.fit(train_features,train_labels)"
   ]
  },
  {
   "cell_type": "code",
   "execution_count": 23,
   "id": "f451d515",
   "metadata": {},
   "outputs": [],
   "source": [
    "rnd_clf_v1_predictions = rnd_clf_v1.predict(test_features)"
   ]
  },
  {
   "cell_type": "code",
   "execution_count": 24,
   "id": "1a4fd58e",
   "metadata": {
    "scrolled": true
   },
   "outputs": [
    {
     "name": "stdout",
     "output_type": "stream",
     "text": [
      "Accuracy score: 0.8180469382249798\n"
     ]
    }
   ],
   "source": [
    "print(\"Accuracy score:\", accuracy_score(test_labels, rnd_clf_v1.predict(test_features)))"
   ]
  },
  {
   "cell_type": "code",
   "execution_count": 25,
   "id": "dffa664d",
   "metadata": {},
   "outputs": [
    {
     "data": {
      "text/plain": [
       "array([[5420,  341],\n",
       "       [1008,  645]], dtype=int64)"
      ]
     },
     "execution_count": 25,
     "metadata": {},
     "output_type": "execute_result"
    }
   ],
   "source": [
    "from sklearn.metrics import confusion_matrix\n",
    "confusion_matrix(test_labels,rnd_clf_v1.predict(test_features))"
   ]
  },
  {
   "cell_type": "code",
   "execution_count": 26,
   "id": "4636b924",
   "metadata": {},
   "outputs": [
    {
     "name": "stdout",
     "output_type": "stream",
     "text": [
      "              precision    recall  f1-score   support\n",
      "\n",
      "           0       0.84      0.94      0.89      5761\n",
      "           1       0.65      0.39      0.49      1653\n",
      "\n",
      "    accuracy                           0.82      7414\n",
      "   macro avg       0.75      0.67      0.69      7414\n",
      "weighted avg       0.80      0.82      0.80      7414\n",
      "\n"
     ]
    }
   ],
   "source": [
    "##precision\n",
    "##Recall\n",
    "##F1\n",
    "from sklearn.metrics import classification_report\n",
    "print(classification_report(test_labels,rnd_clf_v1.predict(test_features)))"
   ]
  },
  {
   "cell_type": "code",
   "execution_count": 27,
   "id": "214a975c",
   "metadata": {},
   "outputs": [],
   "source": [
    "clf_prob= rnd_clf_v1.predict_proba(test_features)[:, 1]"
   ]
  },
  {
   "cell_type": "code",
   "execution_count": 28,
   "id": "9a549f4c",
   "metadata": {},
   "outputs": [
    {
     "data": {
      "text/plain": [
       "0.7610695675376484"
      ]
     },
     "execution_count": 28,
     "metadata": {},
     "output_type": "execute_result"
    }
   ],
   "source": [
    "from sklearn.metrics import roc_auc_score\n",
    "roc_value = roc_auc_score(test_labels, clf_prob)\n",
    "roc_value"
   ]
  },
  {
   "cell_type": "code",
   "execution_count": 29,
   "id": "f53d897c",
   "metadata": {},
   "outputs": [
    {
     "data": {
      "text/html": [
       "<div>\n",
       "<style scoped>\n",
       "    .dataframe tbody tr th:only-of-type {\n",
       "        vertical-align: middle;\n",
       "    }\n",
       "\n",
       "    .dataframe tbody tr th {\n",
       "        vertical-align: top;\n",
       "    }\n",
       "\n",
       "    .dataframe thead th {\n",
       "        text-align: right;\n",
       "    }\n",
       "</style>\n",
       "<table border=\"1\" class=\"dataframe\">\n",
       "  <thead>\n",
       "    <tr style=\"text-align: right;\">\n",
       "      <th></th>\n",
       "      <th>LIMIT_BAL</th>\n",
       "      <th>Genero</th>\n",
       "      <th>PAY_0</th>\n",
       "      <th>PAY_2</th>\n",
       "      <th>PAY_3</th>\n",
       "      <th>PAY_4</th>\n",
       "      <th>PAY_5</th>\n",
       "      <th>PAY_6</th>\n",
       "      <th>BILL_AMT1</th>\n",
       "      <th>BILL_AMT2</th>\n",
       "      <th>BILL_AMT3</th>\n",
       "      <th>BILL_AMT4</th>\n",
       "      <th>BILL_AMT5</th>\n",
       "      <th>BILL_AMT6</th>\n",
       "      <th>PAY_AMT1</th>\n",
       "      <th>PAY_AMT2</th>\n",
       "      <th>PAY_AMT3</th>\n",
       "      <th>PAY_AMT4</th>\n",
       "      <th>PAY_AMT5</th>\n",
       "      <th>PAY_AMT6</th>\n",
       "      <th>inadimplente</th>\n",
       "      <th>Escolaridade_Ensino médio</th>\n",
       "      <th>Escolaridade_Graduado</th>\n",
       "      <th>Escolaridade_Pos graduado</th>\n",
       "      <th>Escolaridade_outros</th>\n",
       "      <th>Estado_Civil_Casado</th>\n",
       "      <th>Estado_Civil_Desconhecido</th>\n",
       "      <th>Estado_Civil_Outro</th>\n",
       "      <th>Estado_Civil_Solteiro</th>\n",
       "      <th>Faixa Etária Categórica_Adulto</th>\n",
       "      <th>Faixa Etária Categórica_Idoso</th>\n",
       "      <th>Faixa Etária Categórica_Jovem</th>\n",
       "    </tr>\n",
       "  </thead>\n",
       "  <tbody>\n",
       "    <tr>\n",
       "      <th>0</th>\n",
       "      <td>20000</td>\n",
       "      <td>1</td>\n",
       "      <td>2</td>\n",
       "      <td>2</td>\n",
       "      <td>-1</td>\n",
       "      <td>-1</td>\n",
       "      <td>-2</td>\n",
       "      <td>-2</td>\n",
       "      <td>3913</td>\n",
       "      <td>3102</td>\n",
       "      <td>689</td>\n",
       "      <td>0</td>\n",
       "      <td>0</td>\n",
       "      <td>0</td>\n",
       "      <td>0</td>\n",
       "      <td>689</td>\n",
       "      <td>0</td>\n",
       "      <td>0</td>\n",
       "      <td>0</td>\n",
       "      <td>0</td>\n",
       "      <td>1</td>\n",
       "      <td>0</td>\n",
       "      <td>1</td>\n",
       "      <td>0</td>\n",
       "      <td>0</td>\n",
       "      <td>1</td>\n",
       "      <td>0</td>\n",
       "      <td>0</td>\n",
       "      <td>0</td>\n",
       "      <td>0</td>\n",
       "      <td>0</td>\n",
       "      <td>1</td>\n",
       "    </tr>\n",
       "    <tr>\n",
       "      <th>1</th>\n",
       "      <td>120000</td>\n",
       "      <td>1</td>\n",
       "      <td>-1</td>\n",
       "      <td>2</td>\n",
       "      <td>0</td>\n",
       "      <td>0</td>\n",
       "      <td>0</td>\n",
       "      <td>2</td>\n",
       "      <td>2682</td>\n",
       "      <td>1725</td>\n",
       "      <td>2682</td>\n",
       "      <td>3272</td>\n",
       "      <td>3455</td>\n",
       "      <td>3261</td>\n",
       "      <td>0</td>\n",
       "      <td>1000</td>\n",
       "      <td>1000</td>\n",
       "      <td>1000</td>\n",
       "      <td>0</td>\n",
       "      <td>2000</td>\n",
       "      <td>1</td>\n",
       "      <td>0</td>\n",
       "      <td>1</td>\n",
       "      <td>0</td>\n",
       "      <td>0</td>\n",
       "      <td>0</td>\n",
       "      <td>0</td>\n",
       "      <td>0</td>\n",
       "      <td>1</td>\n",
       "      <td>0</td>\n",
       "      <td>0</td>\n",
       "      <td>1</td>\n",
       "    </tr>\n",
       "    <tr>\n",
       "      <th>2</th>\n",
       "      <td>90000</td>\n",
       "      <td>1</td>\n",
       "      <td>0</td>\n",
       "      <td>0</td>\n",
       "      <td>0</td>\n",
       "      <td>0</td>\n",
       "      <td>0</td>\n",
       "      <td>0</td>\n",
       "      <td>29239</td>\n",
       "      <td>14027</td>\n",
       "      <td>13559</td>\n",
       "      <td>14331</td>\n",
       "      <td>14948</td>\n",
       "      <td>15549</td>\n",
       "      <td>1518</td>\n",
       "      <td>1500</td>\n",
       "      <td>1000</td>\n",
       "      <td>1000</td>\n",
       "      <td>1000</td>\n",
       "      <td>5000</td>\n",
       "      <td>0</td>\n",
       "      <td>0</td>\n",
       "      <td>1</td>\n",
       "      <td>0</td>\n",
       "      <td>0</td>\n",
       "      <td>0</td>\n",
       "      <td>0</td>\n",
       "      <td>0</td>\n",
       "      <td>1</td>\n",
       "      <td>1</td>\n",
       "      <td>0</td>\n",
       "      <td>0</td>\n",
       "    </tr>\n",
       "    <tr>\n",
       "      <th>3</th>\n",
       "      <td>50000</td>\n",
       "      <td>1</td>\n",
       "      <td>0</td>\n",
       "      <td>0</td>\n",
       "      <td>0</td>\n",
       "      <td>0</td>\n",
       "      <td>0</td>\n",
       "      <td>0</td>\n",
       "      <td>46990</td>\n",
       "      <td>48233</td>\n",
       "      <td>49291</td>\n",
       "      <td>28314</td>\n",
       "      <td>28959</td>\n",
       "      <td>29547</td>\n",
       "      <td>2000</td>\n",
       "      <td>2019</td>\n",
       "      <td>1200</td>\n",
       "      <td>1100</td>\n",
       "      <td>1069</td>\n",
       "      <td>1000</td>\n",
       "      <td>0</td>\n",
       "      <td>0</td>\n",
       "      <td>1</td>\n",
       "      <td>0</td>\n",
       "      <td>0</td>\n",
       "      <td>1</td>\n",
       "      <td>0</td>\n",
       "      <td>0</td>\n",
       "      <td>0</td>\n",
       "      <td>1</td>\n",
       "      <td>0</td>\n",
       "      <td>0</td>\n",
       "    </tr>\n",
       "    <tr>\n",
       "      <th>4</th>\n",
       "      <td>50000</td>\n",
       "      <td>0</td>\n",
       "      <td>-1</td>\n",
       "      <td>0</td>\n",
       "      <td>-1</td>\n",
       "      <td>0</td>\n",
       "      <td>0</td>\n",
       "      <td>0</td>\n",
       "      <td>8617</td>\n",
       "      <td>5670</td>\n",
       "      <td>35835</td>\n",
       "      <td>20940</td>\n",
       "      <td>19146</td>\n",
       "      <td>19131</td>\n",
       "      <td>2000</td>\n",
       "      <td>36681</td>\n",
       "      <td>10000</td>\n",
       "      <td>9000</td>\n",
       "      <td>689</td>\n",
       "      <td>679</td>\n",
       "      <td>0</td>\n",
       "      <td>0</td>\n",
       "      <td>1</td>\n",
       "      <td>0</td>\n",
       "      <td>0</td>\n",
       "      <td>1</td>\n",
       "      <td>0</td>\n",
       "      <td>0</td>\n",
       "      <td>0</td>\n",
       "      <td>0</td>\n",
       "      <td>1</td>\n",
       "      <td>0</td>\n",
       "    </tr>\n",
       "  </tbody>\n",
       "</table>\n",
       "</div>"
      ],
      "text/plain": [
       "   LIMIT_BAL  Genero  PAY_0  PAY_2  PAY_3  PAY_4  PAY_5  PAY_6  BILL_AMT1  \\\n",
       "0      20000       1      2      2     -1     -1     -2     -2       3913   \n",
       "1     120000       1     -1      2      0      0      0      2       2682   \n",
       "2      90000       1      0      0      0      0      0      0      29239   \n",
       "3      50000       1      0      0      0      0      0      0      46990   \n",
       "4      50000       0     -1      0     -1      0      0      0       8617   \n",
       "\n",
       "   BILL_AMT2  BILL_AMT3  BILL_AMT4  BILL_AMT5  BILL_AMT6  PAY_AMT1  PAY_AMT2  \\\n",
       "0       3102        689          0          0          0         0       689   \n",
       "1       1725       2682       3272       3455       3261         0      1000   \n",
       "2      14027      13559      14331      14948      15549      1518      1500   \n",
       "3      48233      49291      28314      28959      29547      2000      2019   \n",
       "4       5670      35835      20940      19146      19131      2000     36681   \n",
       "\n",
       "   PAY_AMT3  PAY_AMT4  PAY_AMT5  PAY_AMT6  inadimplente  \\\n",
       "0         0         0         0         0             1   \n",
       "1      1000      1000         0      2000             1   \n",
       "2      1000      1000      1000      5000             0   \n",
       "3      1200      1100      1069      1000             0   \n",
       "4     10000      9000       689       679             0   \n",
       "\n",
       "   Escolaridade_Ensino médio  Escolaridade_Graduado  \\\n",
       "0                          0                      1   \n",
       "1                          0                      1   \n",
       "2                          0                      1   \n",
       "3                          0                      1   \n",
       "4                          0                      1   \n",
       "\n",
       "   Escolaridade_Pos graduado  Escolaridade_outros  Estado_Civil_Casado  \\\n",
       "0                          0                    0                    1   \n",
       "1                          0                    0                    0   \n",
       "2                          0                    0                    0   \n",
       "3                          0                    0                    1   \n",
       "4                          0                    0                    1   \n",
       "\n",
       "   Estado_Civil_Desconhecido  Estado_Civil_Outro  Estado_Civil_Solteiro  \\\n",
       "0                          0                   0                      0   \n",
       "1                          0                   0                      1   \n",
       "2                          0                   0                      1   \n",
       "3                          0                   0                      0   \n",
       "4                          0                   0                      0   \n",
       "\n",
       "   Faixa Etária Categórica_Adulto  Faixa Etária Categórica_Idoso  \\\n",
       "0                               0                              0   \n",
       "1                               0                              0   \n",
       "2                               1                              0   \n",
       "3                               1                              0   \n",
       "4                               0                              1   \n",
       "\n",
       "   Faixa Etária Categórica_Jovem  \n",
       "0                              1  \n",
       "1                              1  \n",
       "2                              0  \n",
       "3                              0  \n",
       "4                              0  "
      ]
     },
     "execution_count": 29,
     "metadata": {},
     "output_type": "execute_result"
    }
   ],
   "source": [
    "pd.set_option('display.max_columns', None)\n",
    "dataset.head()"
   ]
  },
  {
   "cell_type": "markdown",
   "id": "edc6ed01",
   "metadata": {},
   "source": [
    "### Balanceamento de Classe"
   ]
  },
  {
   "cell_type": "code",
   "execution_count": 30,
   "id": "2ded7858",
   "metadata": {},
   "outputs": [
    {
     "name": "stdout",
     "output_type": "stream",
     "text": [
      "0    23045\n",
      "1     6610\n",
      "Name: inadimplente, dtype: int64\n"
     ]
    },
    {
     "data": {
      "text/plain": [
       "<AxesSubplot:xlabel='inadimplente', ylabel='count'>"
      ]
     },
     "execution_count": 30,
     "metadata": {},
     "output_type": "execute_result"
    },
    {
     "data": {
      "image/png": "[encoded data removed]",
      "text/plain": [
       "<Figure size 432x288 with 1 Axes>"
      ]
     },
     "metadata": {
      "needs_background": "light"
     },
     "output_type": "display_data"
    }
   ],
   "source": [
    "#proporção entre pagantes x não pagantes\n",
    "print(dataset[\"inadimplente\"].value_counts())\n",
    "sns.countplot(data=dataset, x=\"inadimplente\")"
   ]
  },
  {
   "cell_type": "code",
   "execution_count": 31,
   "id": "6a77a818",
   "metadata": {},
   "outputs": [],
   "source": [
    "#!pip install imblearn --user"
   ]
  },
  {
   "cell_type": "code",
   "execution_count": 32,
   "id": "7b04fe85",
   "metadata": {},
   "outputs": [],
   "source": [
    "#conda install -c conda-forge imbalanced-learn"
   ]
  },
  {
   "cell_type": "code",
   "execution_count": 33,
   "id": "060a1f43",
   "metadata": {},
   "outputs": [],
   "source": [
    "from imblearn.over_sampling import SMOTE"
   ]
  },
  {
   "cell_type": "code",
   "execution_count": 34,
   "id": "67fbe996",
   "metadata": {},
   "outputs": [],
   "source": [
    "smt = SMOTE()"
   ]
  },
  {
   "cell_type": "code",
   "execution_count": 35,
   "id": "73fdef27",
   "metadata": {},
   "outputs": [],
   "source": [
    "train_features,train_labels = smt.fit_resample(train_features,train_labels)"
   ]
  },
  {
   "cell_type": "code",
   "execution_count": 36,
   "id": "6d176483",
   "metadata": {},
   "outputs": [
    {
     "name": "stdout",
     "output_type": "stream",
     "text": [
      "0    17284\n",
      "1    17284\n",
      "Name: inadimplente, dtype: int64\n"
     ]
    },
    {
     "name": "stderr",
     "output_type": "stream",
     "text": [
      "C:\\Users\\kaifr\\anaconda3\\lib\\site-packages\\seaborn\\_decorators.py:36: FutureWarning: Pass the following variable as a keyword arg: x. From version 0.12, the only valid positional argument will be `data`, and passing other arguments without an explicit keyword will result in an error or misinterpretation.\n",
      "  warnings.warn(\n"
     ]
    },
    {
     "data": {
      "text/plain": [
       "<AxesSubplot:xlabel='inadimplente', ylabel='count'>"
      ]
     },
     "execution_count": 36,
     "metadata": {},
     "output_type": "execute_result"
    },
    {
     "data": {
      "image/png": "[encoded data removed]",
      "text/plain": [
       "<Figure size 432x288 with 1 Axes>"
      ]
     },
     "metadata": {
      "needs_background": "light"
     },
     "output_type": "display_data"
    }
   ],
   "source": [
    "#verificando se os dados foram balanceados\n",
    "print(train_labels.value_counts())\n",
    "sns.countplot(train_labels)"
   ]
  },
  {
   "cell_type": "code",
   "execution_count": 37,
   "id": "9b9f148d",
   "metadata": {},
   "outputs": [],
   "source": [
    "rnd_clf_v2=RandomForestClassifier(n_estimators=200)"
   ]
  },
  {
   "cell_type": "code",
   "execution_count": 38,
   "id": "6306ffcf",
   "metadata": {},
   "outputs": [
    {
     "data": {
      "text/plain": [
       "RandomForestClassifier(n_estimators=200)"
      ]
     },
     "execution_count": 38,
     "metadata": {},
     "output_type": "execute_result"
    }
   ],
   "source": [
    "#Aplicandp novamento o modelo de ML, agora com as dados balanceados\n",
    "rnd_clf_v2.fit(train_features,train_labels)"
   ]
  },
  {
   "cell_type": "code",
   "execution_count": 39,
   "id": "8fee3de6",
   "metadata": {},
   "outputs": [],
   "source": [
    "clf_v2_predictions = rnd_clf_v2.predict(test_features)"
   ]
  },
  {
   "cell_type": "code",
   "execution_count": 40,
   "id": "1ccbcdc2",
   "metadata": {},
   "outputs": [
    {
     "name": "stdout",
     "output_type": "stream",
     "text": [
      "Accuracy score: 0.8030752630159158\n"
     ]
    }
   ],
   "source": [
    "from sklearn.metrics import accuracy_score\n",
    "print(\"Accuracy score:\", accuracy_score(test_labels, rnd_clf_v2.predict(test_features)))\n"
   ]
  },
  {
   "cell_type": "code",
   "execution_count": 41,
   "id": "b113c0de",
   "metadata": {},
   "outputs": [
    {
     "name": "stdout",
     "output_type": "stream",
     "text": [
      "              precision    recall  f1-score   support\n",
      "\n",
      "           0       0.85      0.91      0.88      5761\n",
      "           1       0.58      0.44      0.50      1653\n",
      "\n",
      "    accuracy                           0.80      7414\n",
      "   macro avg       0.71      0.67      0.69      7414\n",
      "weighted avg       0.79      0.80      0.79      7414\n",
      "\n"
     ]
    }
   ],
   "source": [
    "from sklearn.metrics import classification_report\n",
    "print(classification_report(test_labels,rnd_clf_v2.predict(test_features)))\n"
   ]
  },
  {
   "cell_type": "code",
   "execution_count": 42,
   "id": "738de5df",
   "metadata": {},
   "outputs": [
    {
     "data": {
      "text/plain": [
       "array([[5227,  534],\n",
       "       [ 926,  727]], dtype=int64)"
      ]
     },
     "execution_count": 42,
     "metadata": {},
     "output_type": "execute_result"
    }
   ],
   "source": [
    "from sklearn.metrics import confusion_matrix\n",
    "confusion_matrix(test_labels,rnd_clf_v2.predict(test_features))"
   ]
  },
  {
   "cell_type": "markdown",
   "id": "c8c34b61",
   "metadata": {},
   "source": [
    "### Mapeando a importância das features no aprendizado do modelo"
   ]
  },
  {
   "cell_type": "code",
   "execution_count": 43,
   "id": "2c3af6a9",
   "metadata": {},
   "outputs": [],
   "source": [
    "# Calculate feature importances\n",
    "importances = rnd_clf_v2.feature_importances_"
   ]
  },
  {
   "cell_type": "code",
   "execution_count": 44,
   "id": "56963a02",
   "metadata": {},
   "outputs": [
    {
     "data": {
      "text/plain": [
       "<BarContainer object of 31 artists>"
      ]
     },
     "execution_count": 44,
     "metadata": {},
     "output_type": "execute_result"
    },
    {
     "data": {
      "image/png": "[encoded data removed]",
      "text/plain": [
       "<Figure size 720x576 with 1 Axes>"
      ]
     },
     "metadata": {
      "needs_background": "light"
     },
     "output_type": "display_data"
    }
   ],
   "source": [
    "from matplotlib import pyplot as plt\n",
    "sorted_idx = rnd_clf_v2.feature_importances_.argsort()\n",
    "plt.figure(figsize=(10, 8))\n",
    "plt.barh(features.columns[sorted_idx], rnd_clf_v2.feature_importances_[sorted_idx])\n"
   ]
  },
  {
   "cell_type": "markdown",
   "id": "29ab9ae8",
   "metadata": {},
   "source": [
    "### Contruindo a versão 3 do Modelo. \n",
    "Aqui o objetivo é simplicar os dados de treino e tornar o algoritmo mais simples"
   ]
  },
  {
   "cell_type": "code",
   "execution_count": 45,
   "id": "99ff941c",
   "metadata": {},
   "outputs": [],
   "source": [
    "drop_features = [\"Faixa Etária Categórica_Adulto\",\"Faixa Etária Categórica_Jovem\",\"Escolaridade_Graduado\",\"PAY_3\",\n",
    "                     \"Escolaridade_Ensino médio\",\"Escolaridade_Pos graduado\",\"PAY_4\",\"PAY_5\",\"Genero\",\"Faixa Etária Categórica_Idoso\",\n",
    "                    \"PAY_6\",\"Estado_Civil_Outro\",\"Escolaridade_outros\",\"Estado_Civil_Desconhecido\"]\n",
    "features_2 = features.drop(drop_features, axis = 1)"
   ]
  },
  {
   "cell_type": "code",
   "execution_count": 46,
   "id": "3232678b",
   "metadata": {},
   "outputs": [
    {
     "data": {
      "text/html": [
       "<div>\n",
       "<style scoped>\n",
       "    .dataframe tbody tr th:only-of-type {\n",
       "        vertical-align: middle;\n",
       "    }\n",
       "\n",
       "    .dataframe tbody tr th {\n",
       "        vertical-align: top;\n",
       "    }\n",
       "\n",
       "    .dataframe thead th {\n",
       "        text-align: right;\n",
       "    }\n",
       "</style>\n",
       "<table border=\"1\" class=\"dataframe\">\n",
       "  <thead>\n",
       "    <tr style=\"text-align: right;\">\n",
       "      <th></th>\n",
       "      <th>LIMIT_BAL</th>\n",
       "      <th>PAY_0</th>\n",
       "      <th>PAY_2</th>\n",
       "      <th>BILL_AMT1</th>\n",
       "      <th>BILL_AMT2</th>\n",
       "      <th>BILL_AMT3</th>\n",
       "      <th>BILL_AMT4</th>\n",
       "      <th>BILL_AMT5</th>\n",
       "      <th>BILL_AMT6</th>\n",
       "      <th>PAY_AMT1</th>\n",
       "      <th>PAY_AMT2</th>\n",
       "      <th>PAY_AMT3</th>\n",
       "      <th>PAY_AMT4</th>\n",
       "      <th>PAY_AMT5</th>\n",
       "      <th>PAY_AMT6</th>\n",
       "      <th>Estado_Civil_Casado</th>\n",
       "      <th>Estado_Civil_Solteiro</th>\n",
       "    </tr>\n",
       "  </thead>\n",
       "  <tbody>\n",
       "    <tr>\n",
       "      <th>0</th>\n",
       "      <td>20000</td>\n",
       "      <td>2</td>\n",
       "      <td>2</td>\n",
       "      <td>3913</td>\n",
       "      <td>3102</td>\n",
       "      <td>689</td>\n",
       "      <td>0</td>\n",
       "      <td>0</td>\n",
       "      <td>0</td>\n",
       "      <td>0</td>\n",
       "      <td>689</td>\n",
       "      <td>0</td>\n",
       "      <td>0</td>\n",
       "      <td>0</td>\n",
       "      <td>0</td>\n",
       "      <td>1</td>\n",
       "      <td>0</td>\n",
       "    </tr>\n",
       "    <tr>\n",
       "      <th>1</th>\n",
       "      <td>120000</td>\n",
       "      <td>-1</td>\n",
       "      <td>2</td>\n",
       "      <td>2682</td>\n",
       "      <td>1725</td>\n",
       "      <td>2682</td>\n",
       "      <td>3272</td>\n",
       "      <td>3455</td>\n",
       "      <td>3261</td>\n",
       "      <td>0</td>\n",
       "      <td>1000</td>\n",
       "      <td>1000</td>\n",
       "      <td>1000</td>\n",
       "      <td>0</td>\n",
       "      <td>2000</td>\n",
       "      <td>0</td>\n",
       "      <td>1</td>\n",
       "    </tr>\n",
       "    <tr>\n",
       "      <th>2</th>\n",
       "      <td>90000</td>\n",
       "      <td>0</td>\n",
       "      <td>0</td>\n",
       "      <td>29239</td>\n",
       "      <td>14027</td>\n",
       "      <td>13559</td>\n",
       "      <td>14331</td>\n",
       "      <td>14948</td>\n",
       "      <td>15549</td>\n",
       "      <td>1518</td>\n",
       "      <td>1500</td>\n",
       "      <td>1000</td>\n",
       "      <td>1000</td>\n",
       "      <td>1000</td>\n",
       "      <td>5000</td>\n",
       "      <td>0</td>\n",
       "      <td>1</td>\n",
       "    </tr>\n",
       "    <tr>\n",
       "      <th>3</th>\n",
       "      <td>50000</td>\n",
       "      <td>0</td>\n",
       "      <td>0</td>\n",
       "      <td>46990</td>\n",
       "      <td>48233</td>\n",
       "      <td>49291</td>\n",
       "      <td>28314</td>\n",
       "      <td>28959</td>\n",
       "      <td>29547</td>\n",
       "      <td>2000</td>\n",
       "      <td>2019</td>\n",
       "      <td>1200</td>\n",
       "      <td>1100</td>\n",
       "      <td>1069</td>\n",
       "      <td>1000</td>\n",
       "      <td>1</td>\n",
       "      <td>0</td>\n",
       "    </tr>\n",
       "    <tr>\n",
       "      <th>4</th>\n",
       "      <td>50000</td>\n",
       "      <td>-1</td>\n",
       "      <td>0</td>\n",
       "      <td>8617</td>\n",
       "      <td>5670</td>\n",
       "      <td>35835</td>\n",
       "      <td>20940</td>\n",
       "      <td>19146</td>\n",
       "      <td>19131</td>\n",
       "      <td>2000</td>\n",
       "      <td>36681</td>\n",
       "      <td>10000</td>\n",
       "      <td>9000</td>\n",
       "      <td>689</td>\n",
       "      <td>679</td>\n",
       "      <td>1</td>\n",
       "      <td>0</td>\n",
       "    </tr>\n",
       "  </tbody>\n",
       "</table>\n",
       "</div>"
      ],
      "text/plain": [
       "   LIMIT_BAL  PAY_0  PAY_2  BILL_AMT1  BILL_AMT2  BILL_AMT3  BILL_AMT4  \\\n",
       "0      20000      2      2       3913       3102        689          0   \n",
       "1     120000     -1      2       2682       1725       2682       3272   \n",
       "2      90000      0      0      29239      14027      13559      14331   \n",
       "3      50000      0      0      46990      48233      49291      28314   \n",
       "4      50000     -1      0       8617       5670      35835      20940   \n",
       "\n",
       "   BILL_AMT5  BILL_AMT6  PAY_AMT1  PAY_AMT2  PAY_AMT3  PAY_AMT4  PAY_AMT5  \\\n",
       "0          0          0         0       689         0         0         0   \n",
       "1       3455       3261         0      1000      1000      1000         0   \n",
       "2      14948      15549      1518      1500      1000      1000      1000   \n",
       "3      28959      29547      2000      2019      1200      1100      1069   \n",
       "4      19146      19131      2000     36681     10000      9000       689   \n",
       "\n",
       "   PAY_AMT6  Estado_Civil_Casado  Estado_Civil_Solteiro  \n",
       "0         0                    1                      0  \n",
       "1      2000                    0                      1  \n",
       "2      5000                    0                      1  \n",
       "3      1000                    1                      0  \n",
       "4       679                    1                      0  "
      ]
     },
     "execution_count": 46,
     "metadata": {},
     "output_type": "execute_result"
    }
   ],
   "source": [
    "features_2.head()"
   ]
  },
  {
   "cell_type": "code",
   "execution_count": 47,
   "id": "89ff486a",
   "metadata": {},
   "outputs": [],
   "source": [
    "from sklearn.model_selection import train_test_split\n",
    "train_features_2, test_features_2, train_labels, test_labels = train_test_split(features_2, labels, test_size = 0.25, stratify=labels)"
   ]
  },
  {
   "cell_type": "code",
   "execution_count": 48,
   "id": "875bd635",
   "metadata": {},
   "outputs": [
    {
     "name": "stdout",
     "output_type": "stream",
     "text": [
      "Forma das características de treinamento: (22241, 17)\n",
      "Forma das etiquetas de treinamento: (22241,)\n",
      "Forma das características de teste: (7414, 17)\n",
      "Forma das etiquetas de teste: (7414,)\n"
     ]
    }
   ],
   "source": [
    "print('Forma das características de treinamento:', train_features_2.shape) \n",
    "print('Forma das etiquetas de treinamento:', train_labels.shape) \n",
    "print('Forma das características de teste:', test_features_2.shape) \n",
    "print('Forma das etiquetas de teste:', test_labels.shape)"
   ]
  },
  {
   "cell_type": "code",
   "execution_count": 49,
   "id": "47fcd263",
   "metadata": {},
   "outputs": [],
   "source": [
    "smt = SMOTE()\n",
    "train_features_2,train_labels = smt.fit_resample(train_features_2,train_labels)"
   ]
  },
  {
   "cell_type": "code",
   "execution_count": 50,
   "id": "4f45b4a4",
   "metadata": {},
   "outputs": [],
   "source": [
    "rnd_clf_v3=RandomForestClassifier(n_estimators=200)"
   ]
  },
  {
   "cell_type": "code",
   "execution_count": 51,
   "id": "f06f7d37",
   "metadata": {},
   "outputs": [
    {
     "data": {
      "text/plain": [
       "RandomForestClassifier(n_estimators=200)"
      ]
     },
     "execution_count": 51,
     "metadata": {},
     "output_type": "execute_result"
    }
   ],
   "source": [
    "rnd_clf_v3.fit(train_features_2,train_labels)"
   ]
  },
  {
   "cell_type": "code",
   "execution_count": 52,
   "id": "6a242285",
   "metadata": {},
   "outputs": [],
   "source": [
    "clf_v3_predictions = rnd_clf_v3.predict(test_features_2)"
   ]
  },
  {
   "cell_type": "code",
   "execution_count": 53,
   "id": "efcb1b87",
   "metadata": {},
   "outputs": [
    {
     "name": "stdout",
     "output_type": "stream",
     "text": [
      "Accuracy score: 0.794982465605611\n"
     ]
    }
   ],
   "source": [
    "from sklearn.metrics import accuracy_score\n",
    "print(\"Accuracy score:\", accuracy_score(test_labels, rnd_clf_v3.predict(test_features_2)))"
   ]
  },
  {
   "cell_type": "code",
   "execution_count": 54,
   "id": "9b963d7b",
   "metadata": {},
   "outputs": [
    {
     "name": "stdout",
     "output_type": "stream",
     "text": [
      "              precision    recall  f1-score   support\n",
      "\n",
      "           0       0.85      0.89      0.87      5761\n",
      "           1       0.55      0.47      0.50      1653\n",
      "\n",
      "    accuracy                           0.79      7414\n",
      "   macro avg       0.70      0.68      0.69      7414\n",
      "weighted avg       0.78      0.79      0.79      7414\n",
      "\n"
     ]
    }
   ],
   "source": [
    "from sklearn.metrics import classification_report\n",
    "print(classification_report(test_labels,rnd_clf_v3.predict(test_features_2)))"
   ]
  },
  {
   "cell_type": "code",
   "execution_count": 55,
   "id": "f6f05d90",
   "metadata": {},
   "outputs": [
    {
     "data": {
      "text/plain": [
       "array([[5123,  638],\n",
       "       [ 882,  771]], dtype=int64)"
      ]
     },
     "execution_count": 55,
     "metadata": {},
     "output_type": "execute_result"
    }
   ],
   "source": [
    "from sklearn.metrics import confusion_matrix\n",
    "confusion_matrix(test_labels,rnd_clf_v3.predict(test_features_2))"
   ]
  },
  {
   "cell_type": "code",
   "execution_count": null,
   "id": "495b8870",
   "metadata": {},
   "outputs": [],
   "source": []
  }
 ],
 "metadata": {
  "kernelspec": {
   "display_name": "Python 3",
   "language": "python",
   "name": "python3"
  },
  "language_info": {
   "codemirror_mode": {
    "name": "ipython",
    "version": 3
   },
   "file_extension": ".py",
   "mimetype": "text/x-python",
   "name": "python",
   "nbconvert_exporter": "python",
   "pygments_lexer": "ipython3",
   "version": "3.8.8"
  }
 },
 "nbformat": 4,
 "nbformat_minor": 5
}
